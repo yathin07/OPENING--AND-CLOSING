{
 "cells": [
  {
   "cell_type": "code",
   "execution_count": 2,
   "id": "37144a5a-979f-4195-bd80-14b899be1dfb",
   "metadata": {},
   "outputs": [],
   "source": [
    "import cv2\n",
    "import numpy as np\n",
    "import matplotlib.pyplot as plt"
   ]
  },
  {
   "cell_type": "code",
   "execution_count": null,
   "id": "5b9cd105-209b-4446-8b46-e363254751f3",
   "metadata": {},
   "outputs": [],
   "source": [
    "img1=np.zeros((300,600),dtype='uint8')\n",
    "font=cv2.FONT_ITALIC\n",
    "img2=cv2.putText(img1,\"YATHIN\",(5,100),font,3,(255,0,0),5,cv2.LINE_AA)\n",
    "cv2.imshow(\"Original\",img2)\n",
    "cv2.waitKey(0)\n",
    "cv2.destroyAllWindows()"
   ]
  },
  {
   "cell_type": "code",
   "execution_count": null,
   "id": "249c11f5-8bba-4fc4-b28b-49de85dd6245",
   "metadata": {},
   "outputs": [],
   "source": [
    "#kernel1=cv2.getStructuringElement(cv2.MORPH_RECT,(21,21))\n",
    "#kernel2=cv2.getStructuringElement(cv2.MORPH_RECT,(9,9))\n",
    "kernel1=cv2.getStructuringElement(cv2.MORPH_RECT,(11,11))\n",
    "kernel2=cv2.getStructuringElement(cv2.MORPH_RECT,(5,5))"
   ]
  },
  {
   "cell_type": "code",
   "execution_count": null,
   "id": "f668cced-ee15-47e8-b944-3d62a47915b6",
   "metadata": {},
   "outputs": [],
   "source": [
    "img4=cv2.morphologyEx(img1,cv2.MORPH_OPEN,kernel2)\n",
    "cv2.imshow(\"Opening\",img4)\n",
    "cv2.waitKey(0)\n",
    "cv2.destroyAllWindows()"
   ]
  },
  {
   "cell_type": "code",
   "execution_count": null,
   "id": "682b904b-6290-41b0-9ef3-c1df3f3b9950",
   "metadata": {},
   "outputs": [],
   "source": [
    "img3=cv2.morphologyEx(img1,cv2.MORPH_CLOSE,kernel1)\n",
    "cv2.imshow(\"Closing\",img3)\n",
    "cv2.waitKey(0)\n",
    "cv2.destroyAllWindows()"
   ]
  }
 ],
 "metadata": {
  "kernelspec": {
   "display_name": "Python [conda env:base] *",
   "language": "python",
   "name": "conda-base-py"
  },
  "language_info": {
   "codemirror_mode": {
    "name": "ipython",
    "version": 3
   },
   "file_extension": ".py",
   "mimetype": "text/x-python",
   "name": "python",
   "nbconvert_exporter": "python",
   "pygments_lexer": "ipython3",
   "version": "3.12.7"
  }
 },
 "nbformat": 4,
 "nbformat_minor": 5
}
